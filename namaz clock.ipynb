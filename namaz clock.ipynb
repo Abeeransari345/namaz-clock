{
 "cells": [
  {
   "cell_type": "code",
   "execution_count": 1,
   "id": "93daac1f",
   "metadata": {},
   "outputs": [],
   "source": [
    "#Namaz Clock\n",
    "import tkinter as tk\n",
    "from tkinter import*\n",
    "import time"
   ]
  },
  {
   "cell_type": "code",
   "execution_count": 2,
   "id": "3ebc09f6",
   "metadata": {},
   "outputs": [
    {
     "name": "stdout",
     "output_type": "stream",
     "text": [
      "Enter background colorpink\n",
      "Enter text colorpurple\n"
     ]
    }
   ],
   "source": [
    "background_color = input(\"Enter background color\")\n",
    "color = input (\"Enter text color\")\n",
    "\n",
    "root = tk.Tk()\n",
    "root.geometry(\"400x400\")\n",
    "root.configure(background=\"pink\")\n",
    "root.title(\"Namaz clock\")\n",
    "\n",
    "def tick(time1 = \"\"):\n",
    "    time2 = time.strftime('%I:%M:%S')\n",
    "    clock_frame.config(text = time2)\n",
    "    clock_frame.after(20, tick)\n",
    "    \n",
    "def Fajar_namaz():\n",
    "    Fajar.config(text = \"05:40 a.m fajar\")\n",
    "    \n",
    "def Zuhar_namaz():\n",
    "    Zuhar.config(text = \"01:30 p.m zuhar\")\n",
    "    \n",
    "def Asar_namaz():\n",
    "    Asar.config(text = \"04:20 p.m Asar\")\n",
    "    \n",
    "def Maghrib_namaz():\n",
    "    Maghrib.config(text = \"06:55 p.m Magrib\")\n",
    "    \n",
    "def Isha_namaz():\n",
    "    Isha.config(text = \"08:15 p.m Isha\")\n",
    "    \n",
    "def Jumma_namaz():\n",
    "    Jumma.config(text = \"02:00 p.m Jumma\")\n",
    "    \n",
    "    \n",
    "clock_frame= tk.Label(root, font=('arial',100,'bold'), bg =background_color, fg = color)\n",
    "clock_frame.pack(fill = \"both\" , expand = 1)\n",
    "\n",
    "Fajar= tk.Label(root, font=('arial' ,20, 'bold'),bg =background_color, anchor = 'n', fg = color)\n",
    "Fajar.pack(fill = X)\n",
    "\n",
    "Zuhar= tk.Label(root, font=('arial' ,20, 'bold'),bg =background_color, anchor = 'n', fg = color)\n",
    "Zuhar.pack(fill = X)\n",
    "\n",
    "Asar= tk.Label(root, font=('arial' ,20, 'bold'),bg =background_color, anchor = 'n', fg = color)\n",
    "Asar.pack(fill = X)\n",
    "\n",
    "Maghrib= tk.Label(root, font=('arial' ,20, 'bold'),bg =background_color, anchor = 'n', fg = color)\n",
    "Maghrib.pack(fill = X)\n",
    "\n",
    "Isha= tk.Label(root, font=('arial' ,20, 'bold'),bg =background_color, anchor = 'n', fg = color)\n",
    "Isha.pack(fill = X)\n",
    "\n",
    "Jumma= tk.Label(root, font=('arial' ,20, 'bold'),bg =background_color, anchor = 'n', fg = color)\n",
    "Jumma.pack(fill = X)\n",
    "\n",
    "tick()\n",
    "Fajar_namaz()\n",
    "Zuhar_namaz()\n",
    "Asar_namaz()\n",
    "Maghrib_namaz()\n",
    "Isha_namaz()\n",
    "Jumma_namaz()\n",
    "\n",
    "root.mainloop()"
   ]
  },
  {
   "cell_type": "code",
   "execution_count": null,
   "id": "0d62b52c",
   "metadata": {},
   "outputs": [],
   "source": []
  }
 ],
 "metadata": {
  "kernelspec": {
   "display_name": "Python 3 (ipykernel)",
   "language": "python",
   "name": "python3"
  },
  "language_info": {
   "codemirror_mode": {
    "name": "ipython",
    "version": 3
   },
   "file_extension": ".py",
   "mimetype": "text/x-python",
   "name": "python",
   "nbconvert_exporter": "python",
   "pygments_lexer": "ipython3",
   "version": "3.8.7"
  }
 },
 "nbformat": 4,
 "nbformat_minor": 5
}
